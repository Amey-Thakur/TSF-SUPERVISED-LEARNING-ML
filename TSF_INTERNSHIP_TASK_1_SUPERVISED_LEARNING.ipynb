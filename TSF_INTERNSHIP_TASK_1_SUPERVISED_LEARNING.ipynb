{
  "nbformat": 4,
  "nbformat_minor": 0,
  "metadata": {
    "colab": {
      "name": "TSF INTERNSHIP TASK 1 - SUPERVISED LEARNING.ipynb",
      "provenance": [],
      "collapsed_sections": [],
      "authorship_tag": "ABX9TyPtI81F4/YWjfKn9svZp1ju",
      "include_colab_link": true
    },
    "kernelspec": {
      "name": "python3",
      "display_name": "Python 3"
    },
    "language_info": {
      "name": "python"
    }
  },
  "cells": [
    {
      "cell_type": "markdown",
      "metadata": {
        "id": "view-in-github",
        "colab_type": "text"
      },
      "source": [
        "<a href=\"https://colab.research.google.com/github/Amey-Thakur/TSF-SUPERVISED-LEARNING-ML/blob/main/TSF_INTERNSHIP_TASK_1_SUPERVISED_LEARNING.ipynb\" target=\"_parent\"><img src=\"https://colab.research.google.com/assets/colab-badge.svg\" alt=\"Open In Colab\"/></a>"
      ]
    },
    {
      "cell_type": "markdown",
      "metadata": {
        "id": "ywassMkdwGcd"
      },
      "source": [
        "# The Sparks Foundation - Supervised Learning ML\n",
        "- Created By Amey Mahendra Thakur"
      ]
    },
    {
      "cell_type": "markdown",
      "metadata": {
        "id": "QIAFM4p_wNvM"
      },
      "source": [
        "## Task: To Predict the percentage of a student based on the no. of study hours."
      ]
    },
    {
      "cell_type": "markdown",
      "metadata": {
        "id": "NfA7KZIPwTTA"
      },
      "source": [
        "## Step 1- Importing Libraries and Loading Dataset"
      ]
    },
    {
      "cell_type": "code",
      "metadata": {
        "id": "XTbcIPrWwbOr"
      },
      "source": [
        "%matplotlib inline\n",
        "import pandas as pd\n",
        "import numpy as np\n",
        "import matplotlib.pyplot as plt\n",
        "import seaborn as sns\n",
        "sns.set()\n",
        "plt.style.use('ggplot')"
      ],
      "execution_count": null,
      "outputs": []
    },
    {
      "cell_type": "code",
      "metadata": {
        "id": "LRA0xBh1whgf"
      },
      "source": [
        "data = pd.read_csv(r\"/content/scores.csv\")"
      ],
      "execution_count": null,
      "outputs": []
    },
    {
      "cell_type": "code",
      "metadata": {
        "id": "v25b_41VwmjE"
      },
      "source": [
        "data.head(10)"
      ],
      "execution_count": null,
      "outputs": []
    },
    {
      "cell_type": "markdown",
      "metadata": {
        "id": "X-hWTfBNwoWU"
      },
      "source": [
        "## Step 2: Exploratory Data Analysis"
      ]
    },
    {
      "cell_type": "code",
      "metadata": {
        "id": "_KxHgtFpwrZU"
      },
      "source": [
        "data.shape"
      ],
      "execution_count": null,
      "outputs": []
    },
    {
      "cell_type": "code",
      "metadata": {
        "id": "NbhgZ91HwtrY"
      },
      "source": [
        "data.info()"
      ],
      "execution_count": null,
      "outputs": []
    },
    {
      "cell_type": "code",
      "metadata": {
        "id": "QF0fg5DVw_Ko"
      },
      "source": [
        "data.describe()"
      ],
      "execution_count": null,
      "outputs": []
    },
    {
      "cell_type": "code",
      "metadata": {
        "id": "wPGbTZY1xDGw"
      },
      "source": [
        "#Plotting the distribution of scores\n",
        "data.plot(x='Hours', y='Scores', style='o')  \n",
        "plt.title('Hours vs Percentage')  \n",
        "plt.xlabel('Hours Studied')  \n",
        "plt.ylabel('Percentage Scored')  \n",
        "plt.show()"
      ],
      "execution_count": null,
      "outputs": []
    },
    {
      "cell_type": "markdown",
      "metadata": {
        "id": "az7_XBsPxFyu"
      },
      "source": [
        "### Preparing the Data\n",
        "The next step is to divide the data into attributes(inputs) and labels(outputs)."
      ]
    },
    {
      "cell_type": "code",
      "metadata": {
        "id": "ViQojoBlxGt8"
      },
      "source": [
        "X = data.iloc[:, :-1].values\n",
        "y = data.iloc[:, 1].values"
      ],
      "execution_count": null,
      "outputs": []
    },
    {
      "cell_type": "markdown",
      "metadata": {
        "id": "nGbIDfnHxOMa"
      },
      "source": [
        "### Splitting the data into Training and Testing sets."
      ]
    },
    {
      "cell_type": "code",
      "metadata": {
        "id": "MGrd1JXyxO_8"
      },
      "source": [
        "from sklearn.model_selection import train_test_split \n",
        "X_train, X_test, y_train, y_test = train_test_split(X, y, test_size= 0.2, random_state= 0)"
      ],
      "execution_count": null,
      "outputs": []
    },
    {
      "cell_type": "code",
      "metadata": {
        "id": "MpHsQJrMxRB5"
      },
      "source": [
        "sns.distplot(y_train, kde=True)\n",
        "plt.title('Distribution of Scores')\n",
        "plt.xlabel('Hours Studied')  \n",
        "plt.ylabel('Percentage Scored')"
      ],
      "execution_count": null,
      "outputs": []
    },
    {
      "cell_type": "code",
      "metadata": {
        "id": "PtfW6as-xTHe"
      },
      "source": [
        "sns.regplot(X_train, y_train)\n",
        "plt.title('Hours vs Scores')\n",
        "plt.xlabel('Hours Studied')  \n",
        "plt.ylabel('Percentage Scored')"
      ],
      "execution_count": null,
      "outputs": []
    },
    {
      "cell_type": "markdown",
      "metadata": {
        "id": "QmAHul7jxYCA"
      },
      "source": [
        "## Step 3: Training the Algorithm\n",
        "After splitting the data into training and testing sets, We have to train our Algorithm"
      ]
    },
    {
      "cell_type": "code",
      "metadata": {
        "id": "rgtapWo-xY1P"
      },
      "source": [
        "from sklearn.linear_model import LinearRegression  \n",
        "training = LinearRegression()  \n",
        "training.fit(X_train, y_train) \n",
        "print(\"Training completed using \" + str(training))"
      ],
      "execution_count": null,
      "outputs": []
    },
    {
      "cell_type": "code",
      "metadata": {
        "id": "IegzrqXqxalP"
      },
      "source": [
        "#predicting the test set results\n",
        "y_pred = training.predict(X_test)\n",
        "\n",
        "# Comparing Actual vs Predicted\n",
        "df = pd.DataFrame({'Actual': y_test, 'Predicted': y_pred})  \n",
        "df.head(5)"
      ],
      "execution_count": null,
      "outputs": []
    },
    {
      "cell_type": "markdown",
      "metadata": {
        "id": "ud2MVz18xhGy"
      },
      "source": [
        "## Step 4: Visualizing the Results"
      ]
    },
    {
      "cell_type": "code",
      "metadata": {
        "id": "BHF795T9xhxj"
      },
      "source": [
        "#visualising the training set results\n",
        "plt.scatter(X_train, y_train, color = 'red')\n",
        "plt.plot(X_train,  training.predict(X_train), color= 'blue')\n",
        "plt.title('Hours vs Scores (Training set)')\n",
        "plt.xlabel('Hours')\n",
        "plt.ylabel('Scores')\n",
        "plt.show()"
      ],
      "execution_count": null,
      "outputs": []
    },
    {
      "cell_type": "code",
      "metadata": {
        "id": "xN6UXMDXxj4N"
      },
      "source": [
        "#visualising the test set results\n",
        "plt.scatter(X_test, y_test, color = 'red')\n",
        "plt.plot(X_train,  training.predict(X_train), color= 'blue')\n",
        "plt.title('Hours vs Scores (Test set)')\n",
        "plt.xlabel('Hours')\n",
        "plt.ylabel('Scores')\n",
        "plt.show()"
      ],
      "execution_count": null,
      "outputs": []
    },
    {
      "cell_type": "markdown",
      "metadata": {
        "id": "oy7UwfGsxsNr"
      },
      "source": [
        "## Step 5: Model Evaluation"
      ]
    },
    {
      "cell_type": "markdown",
      "metadata": {
        "id": "LBEGXhPMxtNm"
      },
      "source": [
        "k = X_test.shape[1]\n",
        "n = len(X_test)\n",
        "n"
      ]
    },
    {
      "cell_type": "markdown",
      "metadata": {
        "id": "ciQIR1m8xzjW"
      },
      "source": [
        "from sklearn.metrics import r2_score\n",
        "from math import sqrt\n",
        "from sklearn import metrics  \n",
        "r2 = r2_score(y_test, y_pred)\n",
        "adj_r2 = 1-(1-r2)*(n-1)/(n-k-1)\n",
        "\n",
        "print('R2 =', r2, '\\nAdjusted R2 =', adj_r2)\n",
        "print('Mean Absolute Error:', metrics.mean_absolute_error(y_test, y_pred))"
      ]
    },
    {
      "cell_type": "markdown",
      "metadata": {
        "id": "6_gxtHEPx4gd"
      },
      "source": [
        "## Step 6: Predicting Future Data"
      ]
    },
    {
      "cell_type": "code",
      "metadata": {
        "id": "9zwHZrysx5Fa"
      },
      "source": [
        "Hours = 9.25\n",
        "prediction = training.predict([[Hours]])\n",
        "print(\"Number of Hours = {}\".format(Hours))\n",
        "print(\"Predicted Score = {}\".format(prediction[0]))"
      ],
      "execution_count": null,
      "outputs": []
    }
  ]
}